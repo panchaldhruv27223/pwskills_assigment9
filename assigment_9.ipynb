{
 "cells": [
  {
   "cell_type": "code",
   "execution_count": 1,
   "id": "46eca559",
   "metadata": {},
   "outputs": [],
   "source": [
    "# Q1. What is Abstraction in OOps? Explain with an example."
   ]
  },
  {
   "cell_type": "code",
   "execution_count": null,
   "id": "31b1bd1c",
   "metadata": {},
   "outputs": [],
   "source": [
    "# abstraction in oop :\n",
    "#   it create a blue print for other class.\n",
    "#   means in abstraction  abstract method does not contain any implementation they are just declare. \n",
    "#   A class that contain that type of methods we called a abstract class "
   ]
  },
  {
   "cell_type": "code",
   "execution_count": 1,
   "id": "aecac49e",
   "metadata": {},
   "outputs": [],
   "source": [
    "#  ex :\n",
    "import abc\n",
    "class car:\n",
    "    @abc.abstractmethod\n",
    "    def color(self):\n",
    "        pass\n",
    "    \n",
    "    @abc.abstractmethod\n",
    "    def high_speed(self):\n",
    "        pass\n",
    "    \n",
    "class ferrari(car):\n",
    "    \n",
    "    def color(self):\n",
    "        print(\"red\")\n",
    "        \n",
    "    def high_speed(self):\n",
    "        print(297)\n",
    "        \n",
    "class lembo(car):\n",
    "    \n",
    "    def color(self):\n",
    "        print(\"black\")\n",
    "        \n",
    "    def high_speed(self):\n",
    "        print(299)\n",
    "        "
   ]
  },
  {
   "cell_type": "code",
   "execution_count": 3,
   "id": "f2336b89",
   "metadata": {},
   "outputs": [
    {
     "name": "stdout",
     "output_type": "stream",
     "text": [
      "red\n",
      "297\n",
      "black\n",
      "299\n"
     ]
    }
   ],
   "source": [
    "f = ferrari()\n",
    "f.color()\n",
    "f.high_speed()\n",
    "\n",
    "l = lembo()\n",
    "l.color()\n",
    "l.high_speed()"
   ]
  },
  {
   "cell_type": "code",
   "execution_count": 2,
   "id": "86f57342",
   "metadata": {},
   "outputs": [],
   "source": [
    "# Q2. Differentiate between Abstraction and Encapsulation. Explain with an example."
   ]
  },
  {
   "cell_type": "code",
   "execution_count": null,
   "id": "0b3dc7af",
   "metadata": {},
   "outputs": [],
   "source": [
    "#  abstract just a blue print of class \n",
    "\n",
    "#  encapsulation is the process of hiding data. in encapsulation we don't give direct access to the user.\n"
   ]
  },
  {
   "cell_type": "code",
   "execution_count": 14,
   "id": "5065bbe6",
   "metadata": {},
   "outputs": [],
   "source": [
    "# ex \n",
    "\n",
    "\n",
    "#  absraction \n",
    "import abc\n",
    "class car:\n",
    "    @abc.abstractmethod\n",
    "    def color(self):\n",
    "        pass\n",
    "    \n",
    "    @abc.abstractmethod\n",
    "    def high_speed(self):\n",
    "        pass\n",
    "    \n",
    "class ferrari(car):\n",
    "    model = \"ferrari 1991\"\n",
    "    def color(self):\n",
    "        print(\"red\")\n",
    "        \n",
    "    def high_speed(self):\n",
    "        print(297)\n",
    "        \n",
    "class lembo(car):\n",
    "    model = \"lemborging 1996\"\n",
    "    def color(self):\n",
    "        print(\"black\")\n",
    "        \n",
    "    def high_speed(self):\n",
    "        print(299)\n",
    "        \n",
    "        \n",
    "#  encapsulation   \n",
    "\n",
    "class car2:\n",
    "    def __init__(self , car_name,car_high_speed):\n",
    "        self.__carname = car_name\n",
    "        self.__carspeed = car_high_speed\n",
    "        \n",
    "    def set_speed(self,speed):\n",
    "        if speed >250:\n",
    "            self.__carspeed = speed\n",
    "\n",
    "    def details(self):\n",
    "        print(self.__carname,self.__carspeed)\n"
   ]
  },
  {
   "cell_type": "code",
   "execution_count": 19,
   "id": "2cd74858",
   "metadata": {},
   "outputs": [
    {
     "name": "stdout",
     "output_type": "stream",
     "text": [
      "red\n",
      "297\n",
      "ferrari 1991\n",
      "ferrari 1990\n",
      "black\n",
      "299\n",
      "lemborging 1996\n",
      "fortuner 260\n",
      "fortuner 255\n"
     ]
    }
   ],
   "source": [
    "f = ferrari()\n",
    "f.color()\n",
    "f.high_speed()\n",
    "print(f.model)\n",
    "# if we try to change model name  we can change\n",
    "f.model = \"ferrari 1990\"\n",
    "print(f.model)\n",
    "\n",
    "l = lembo()\n",
    "l.color()\n",
    "l.high_speed()\n",
    "print(l.model)\n",
    "\n",
    "c2 = car2(\"fortuner\" , \"260\")\n",
    "#  we can not see\n",
    "# c2.__carname\n",
    "c2.details()\n",
    "#  if we want to chnage speed we can not directly chnage it \n",
    "c2.set_speed(255)\n",
    "\n",
    "c2.details()"
   ]
  },
  {
   "cell_type": "code",
   "execution_count": 3,
   "id": "b9914bba",
   "metadata": {},
   "outputs": [],
   "source": [
    "# Q3. What is abc module in python? Why is it used?"
   ]
  },
  {
   "cell_type": "code",
   "execution_count": 20,
   "id": "bd096486",
   "metadata": {},
   "outputs": [],
   "source": [
    "#  abc (Abstract Base Classes) \n",
    "#  abc module is in the python library that provide infrastructure for abstract class.\n",
    "#  abc module used to defining custome abstract class, abstract method .\n",
    "#  This is done by @absttractmethod decorator"
   ]
  },
  {
   "cell_type": "code",
   "execution_count": 4,
   "id": "40121e81",
   "metadata": {},
   "outputs": [],
   "source": [
    "# Q4. How can we achieve data abstraction?"
   ]
  },
  {
   "cell_type": "code",
   "execution_count": null,
   "id": "8c480884",
   "metadata": {},
   "outputs": [],
   "source": [
    "# in python we can achive data abstraction using abc module .\n",
    "#  make abstract methods uisng @absttractmethod decorator \n",
    "#  one or more abstract methods create a abstract class \n",
    "#  uisng this types of modules and using this type of methods and class we can achive data abstraction ."
   ]
  },
  {
   "cell_type": "code",
   "execution_count": 5,
   "id": "4dd93cd3",
   "metadata": {},
   "outputs": [],
   "source": [
    "# Q5. Can we create an instance of an abstract class? Explain your answer."
   ]
  },
  {
   "cell_type": "code",
   "execution_count": 25,
   "id": "ddbed2dc",
   "metadata": {},
   "outputs": [],
   "source": [
    "import abc\n",
    "import math\n",
    "\n",
    "class volume:\n",
    "    \n",
    "    @abc.abstractmethod\n",
    "    def sphere(self,r):\n",
    "        pass\n",
    "    def cylinder(self , r , h):\n",
    "        pass\n",
    "    def cone(self, r, h):\n",
    "        pass\n",
    "    \n",
    "class spheres(volume):\n",
    "    def sphere(self , r):\n",
    "        print((4/3)*math.pi*r**3)\n",
    "        \n",
    "class cylinders(volume):\n",
    "    def cylinder(self , r, h):\n",
    "        print(math.pi*r**2*h)\n",
    "\n",
    "class cones(volume):\n",
    "    def cone(self, r , h):\n",
    "        print((1/3)*math.pi*r**2*h)\n",
    "        \n",
    "\n"
   ]
  },
  {
   "cell_type": "code",
   "execution_count": 33,
   "id": "e50c2ec4",
   "metadata": {},
   "outputs": [
    {
     "name": "stdout",
     "output_type": "stream",
     "text": [
      "268.082573106329\n",
      "37.69911184307752\n",
      "8.377580409572781\n"
     ]
    }
   ],
   "source": [
    "obj1 = spheres()\n",
    "obj1.sphere(4)\n",
    "\n",
    "obj2 = cylinders()\n",
    "obj2.cylinder(2,3)\n",
    "\n",
    "obj3 = cones()\n",
    "obj3.cone(2,2)\n",
    "\n",
    "\n",
    "obj4  = volume()\n",
    "obj4.cone(2,3)\n",
    "obj4.cylinder(2,2)\n",
    "obj4.sphere(2)"
   ]
  },
  {
   "cell_type": "code",
   "execution_count": 35,
   "id": "7fee9e45",
   "metadata": {},
   "outputs": [],
   "source": [
    "#  so we can create a instance of abstract class but it is meaning less because abstract class methods are also abstract method\n",
    "#  so abstract methods does't contain implementation they are just declare "
   ]
  }
 ],
 "metadata": {
  "kernelspec": {
   "display_name": "Python 3 (ipykernel)",
   "language": "python",
   "name": "python3"
  },
  "language_info": {
   "codemirror_mode": {
    "name": "ipython",
    "version": 3
   },
   "file_extension": ".py",
   "mimetype": "text/x-python",
   "name": "python",
   "nbconvert_exporter": "python",
   "pygments_lexer": "ipython3",
   "version": "3.9.7"
  }
 },
 "nbformat": 4,
 "nbformat_minor": 5
}
